{
  "cells": [
    {
      "cell_type": "markdown",
      "source": [
        "# Intro to Pandas\n",
        "by Ryan Orsinger"
      ],
      "metadata": {},
      "id": "2ffd6d5f"
    },
    {
      "cell_type": "markdown",
      "source": [
        "## Module 1: Intro to pandas series\n",
        "\n",
        "### Pandas Series Part 2\n",
        "\n",
        "- Using comparison operators to produce Boolean series\n",
        "- Using Boolean indexing to filter data\n",
        "- Using OR and AND operations to make compound filters\n",
        "- Assigning subsets to their own variable\n",
        "- Operating on subsets in place using `.loc`"
      ],
      "metadata": {},
      "id": "f9521d1d"
    },
    {
      "cell_type": "code",
      "source": [
        "import pandas as pd"
      ],
      "outputs": [],
      "execution_count": null,
      "metadata": {},
      "id": "adad7398"
    },
    {
      "cell_type": "code",
      "source": [
        "# Base Python uses numeric indexes to return a single element\n",
        "ser = range(-2, 3)\n",
        "ser[0]"
      ],
      "outputs": [],
      "execution_count": null,
      "metadata": {},
      "id": "cbd7754a"
    },
    {
      "cell_type": "code",
      "source": [
        "# Let's make a pandas series to go into pandas indexing\n",
        "ser = pd.Series(ser)\n",
        "ser"
      ],
      "outputs": [],
      "execution_count": null,
      "metadata": {},
      "id": "e52d0ced"
    },
    {
      "cell_type": "code",
      "source": [
        "# The corresponding index for the first element is True and the rest are False\n",
        "# Using the corresponding index of a Boolean collection to filter is called \"Boolean masking\"\n",
        "first = [True, False, False, False, False]\n",
        "ser[first]"
      ],
      "outputs": [],
      "execution_count": null,
      "metadata": {},
      "id": "27cd7b2c"
    },
    {
      "cell_type": "code",
      "source": [
        "# If all Boolean values are True, we return the original series\n",
        "all_true = [True, True, True, True, True]\n",
        "ser[all_true]"
      ],
      "outputs": [],
      "execution_count": null,
      "metadata": {},
      "id": "2d40f653"
    },
    {
      "cell_type": "code",
      "source": [
        "all_false = [False, False, False, False, False]\n",
        "ser[all_false]"
      ],
      "outputs": [],
      "execution_count": null,
      "metadata": {},
      "id": "f80b344a"
    },
    {
      "cell_type": "code",
      "source": [
        "# The Boolean mask is filtering our results here\n",
        "first_and_third = [True, False, True, False, False]\n",
        "ser[first_and_third]"
      ],
      "outputs": [],
      "execution_count": null,
      "metadata": {},
      "id": "d4c2e742"
    },
    {
      "cell_type": "code",
      "source": [
        "# Boolean masking leaves the original series intact\n",
        "ser"
      ],
      "outputs": [],
      "execution_count": null,
      "metadata": {},
      "id": "0a0318b3"
    },
    {
      "cell_type": "code",
      "source": [
        "# Comparison operators return a Boolean series\n",
        "# Notice this returns a Boolean series\n",
        "ser == 1"
      ],
      "outputs": [],
      "execution_count": null,
      "metadata": {},
      "id": "58095298"
    },
    {
      "cell_type": "code",
      "source": [
        "mask = ser == 1\n",
        "ser[mask]"
      ],
      "outputs": [],
      "execution_count": null,
      "metadata": {},
      "id": "f60f7681"
    },
    {
      "cell_type": "code",
      "source": [
        "# We can place the Boolean series inside the square brackets directly\n",
        "ser[ser == 1]"
      ],
      "outputs": [],
      "execution_count": null,
      "metadata": {},
      "id": "7d37750c"
    },
    {
      "cell_type": "code",
      "source": [
        "# Using a Boolean series in square brackets after the series filters results\n",
        "is_negative = ser < 0\n",
        "is_negative"
      ],
      "outputs": [],
      "execution_count": null,
      "metadata": {},
      "id": "7403b5bc"
    },
    {
      "cell_type": "code",
      "source": [
        "# The True values in the Boolean series enable the corresponding elements. False values hide corresponding elements.\n",
        "ser[is_negative]"
      ],
      "outputs": [],
      "execution_count": null,
      "metadata": {},
      "id": "a4cef135"
    },
    {
      "cell_type": "code",
      "source": [
        "# Subsets are copies of the data\n",
        "negatives = ser[is_negative]\n",
        "negatives"
      ],
      "outputs": [],
      "execution_count": null,
      "metadata": {},
      "id": "fd366da9"
    },
    {
      "cell_type": "code",
      "source": [
        "# Reassigning the result of a Boolean mask keeps the original series intact\n",
        "ser"
      ],
      "outputs": [],
      "execution_count": null,
      "metadata": {},
      "id": "2a9a35e8"
    },
    {
      "cell_type": "code",
      "source": [
        "# A comparison operator used with the modulo operator to return a Boolean Series\n",
        "is_odd = ser % 2 == 1\n",
        "ser[is_odd]"
      ],
      "outputs": [],
      "execution_count": null,
      "metadata": {},
      "id": "d426e169"
    },
    {
      "cell_type": "code",
      "source": [
        "# Let's work with some new data\n",
        "numbers = pd.Series(range(1, 13))\n",
        "numbers"
      ],
      "outputs": [],
      "execution_count": null,
      "metadata": {},
      "id": "6d695cde"
    },
    {
      "cell_type": "code",
      "source": [
        "# We can use & and | operators on our Boolean series to produce more complex behavior\n",
        "# Parentheses are helpful for order of operations\n",
        "numbers[(numbers == 2) | (numbers == 5)]"
      ],
      "outputs": [],
      "execution_count": null,
      "metadata": {},
      "id": "811bb46c"
    },
    {
      "cell_type": "code",
      "source": [
        "# If all expressions evaluate to false, we can an empty series\n",
        "numbers[(numbers == 2) & (numbers == 5)]"
      ],
      "outputs": [],
      "execution_count": null,
      "metadata": {},
      "id": "32221ac9"
    },
    {
      "cell_type": "code",
      "source": [
        "# To avoid parentheses, we can assign each Boolean series separately. \n",
        "# The & operator is the AND operator for Boolean series\n",
        "is_even = numbers % 2 == 0\n",
        "is_divisible_by_3 = numbers % 3 == 0\n",
        "is_divisible_by_3_or_2 = is_even & is_divisible_by_3\n",
        "numbers[is_divisible_by_3_or_2]"
      ],
      "outputs": [],
      "execution_count": null,
      "metadata": {},
      "id": "21c09e96"
    },
    {
      "cell_type": "code",
      "source": [
        "# If each Boolean series/expression is not assigned to its own variable, we need parentheses for order of operations\n",
        "# Notice how with an AND operator, both Booleans must be true\n",
        "numbers[(numbers % 2 == 0) & (numbers % 5 == 0)]"
      ],
      "outputs": [],
      "execution_count": null,
      "metadata": {},
      "id": "fb18d88b"
    },
    {
      "cell_type": "code",
      "source": [
        "# We use the | operator for OR operations \n",
        "# This returns all the even numbers or the numbers evenly divisible by 5\n",
        "numbers[(numbers % 2 == 0) | (numbers % 5 == 0)]"
      ],
      "outputs": [],
      "execution_count": null,
      "metadata": {},
      "id": "4338a2dc"
    },
    {
      "cell_type": "code",
      "source": [
        "# Boolean masking is very powerful, but what about modifying values in place on a series?\n",
        "# The .loc method use the same Boolean series syntax\n",
        "is_even = numbers % 2 == 0\n",
        "\n",
        "# For simplicity, let's assign every even number to 200\n",
        "numbers.loc[is_even] = 200"
      ],
      "outputs": [],
      "execution_count": null,
      "metadata": {},
      "id": "1a71aa15"
    },
    {
      "cell_type": "code",
      "source": [
        "numbers"
      ],
      "outputs": [],
      "execution_count": null,
      "metadata": {},
      "id": "830caa91"
    },
    {
      "cell_type": "code",
      "source": [
        "# What if we need more dynamic reassignment?\n",
        "numbers = pd.Series(range(1, 13))\n",
        "\n",
        "# Shorthand syntax would be numbers.loc[is_even] *= 2\n",
        "numbers.loc[is_even] = numbers.loc[is_even] * 2\n",
        "numbers"
      ],
      "outputs": [],
      "execution_count": null,
      "metadata": {},
      "id": "d1335a44"
    },
    {
      "cell_type": "markdown",
      "source": [
        "## Further Reading\n",
        "- https://pandas.pydata.org/docs/user_guide/indexing.html\n",
        "- https://pandas.pydata.org/docs/reference/api/pandas.DataFrame.loc.html"
      ],
      "metadata": {},
      "id": "c695f8d6"
    },
    {
      "cell_type": "markdown",
      "source": [
        "## Exercise check-in\n",
        "- Make a series of the following values `[-4, -3, -2, -1, 0, 1, 2, 3, 4]` and store to a variable named `ser`\n",
        "- Write the code to filter out only the number 2\n",
        "- Write the code to filter out the number 2 or 4.\n",
        "- Create a variable named `is_positive` that will be the Boolean series if the corresponding `ser` values is positive or not. Now create a new variable named `positives` and use this to store only the positive numbers.\n",
        "- Follow the steps above creating a Boolean series named `is_even` and assign a new variable named `evens` that holds only the even numbers\n",
        "- Use what you have learned to produce a new Boolean series named `is_even_and_positive` and assign the Boolean values. Use your new Boolean series to create a new variable named `even_positives` that is only the even and positive numbers.\n",
        "- Follow the pattern from above to produce a new Boolean series named `is_even_or_positive` and assign the appropriate Boolean values using | for OR operations. Use your new Boolean series to create a new variable named `even_or_positive` that is only the even and positive numbers\n",
        "- Use the `.loc` method to reassign all numbers that are both even and positive to be the number zero.\n",
        "- Use the `.loc` method and the reassignment syntax to multiply every negative number by 20, in place.\n"
      ],
      "metadata": {},
      "id": "3bf23100"
    },
    {
      "cell_type": "code",
      "source": [
        "# Make a series out of  [-4, -3, -2, -1, 0, 1, 2, 3, 4]\n"
      ],
      "outputs": [],
      "execution_count": null,
      "metadata": {},
      "id": "e53659ac"
    },
    {
      "cell_type": "code",
      "source": [
        "# Write the code to filter out only the number 2\n"
      ],
      "outputs": [],
      "execution_count": null,
      "metadata": {},
      "id": "b319ee36"
    },
    {
      "cell_type": "code",
      "source": [
        "# Write the code to filter out the number 2 or 4.\n"
      ],
      "outputs": [],
      "execution_count": null,
      "metadata": {},
      "id": "c4e7f785"
    },
    {
      "cell_type": "code",
      "source": [
        "# Create a variable named `is_positive` that will be the Boolean series if the corresponding `ser` values is positive or not. Now create a new variable named `positives` and use this to store only the positive numbers.\n"
      ],
      "outputs": [],
      "execution_count": null,
      "metadata": {},
      "id": "d181e74d"
    },
    {
      "cell_type": "code",
      "source": [
        "# Follow the steps above creating a Boolean series named `is_even` and assign a new variable named `evens` that holds only the even numbers\n"
      ],
      "outputs": [],
      "execution_count": null,
      "metadata": {},
      "id": "f04e8de2"
    },
    {
      "cell_type": "code",
      "source": [
        "# Use what you have learned to produce a new Boolean series named `is_even_and_positive` and assign the Boolean values. Use your new Boolean series to create a new variable named `even_positives` that is only the even and positive numbers.\n",
        "is_even_and_positive = is_even & is_positive\n",
        "even_positives = ser[is_even_and_positive]\n",
        "even_positives"
      ],
      "outputs": [],
      "execution_count": null,
      "metadata": {},
      "id": "7759204f"
    },
    {
      "cell_type": "code",
      "source": [
        "# Follow the pattern from above to produce a new Boolean series named `is_even_or_positive` and assign the appropriate Boolean values using | for OR operations. Use your new Boolean series to create a new variable named `even_or_positive` that is only the even and positive numbers\n"
      ],
      "outputs": [],
      "execution_count": null,
      "metadata": {},
      "id": "47871072"
    },
    {
      "cell_type": "code",
      "source": [
        "# Use the `.loc` method to reassign all numbers that are both even and positive to be the number zero.\n"
      ],
      "outputs": [],
      "execution_count": null,
      "metadata": {},
      "id": "1cf0cc49"
    },
    {
      "cell_type": "code",
      "source": [
        "# Use the `.loc` method and the reassignment syntax to multiply every negative number by 20, in place."
      ],
      "outputs": [],
      "execution_count": null,
      "metadata": {},
      "id": "69c84ba2"
    },
    {
      "cell_type": "code",
      "source": [],
      "outputs": [],
      "execution_count": null,
      "metadata": {},
      "id": "b22afa32"
    }
  ],
  "metadata": {
    "kernelspec": {
      "name": "python",
      "language": "python",
      "display_name": "Pyolite (preview)"
    },
    "language_info": {
      "codemirror_mode": {
        "name": "python",
        "version": 3
      },
      "file_extension": ".py",
      "mimetype": "text/x-python",
      "name": "python",
      "nbconvert_exporter": "python",
      "pygments_lexer": "ipython3",
      "version": "3.8"
    },
    "kernel_info": {
      "name": "python"
    },
    "nteract": {
      "version": "nteract-front-end@1.0.0"
    }
  },
  "nbformat": 4,
  "nbformat_minor": 5
}